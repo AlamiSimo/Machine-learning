{
 "cells": [
  {
   "cell_type": "markdown",
   "metadata": {},
   "source": [
    "## TOC:\n",
    "* [Import data and libraries](#import)\n",
    "* [Preprocessing](#preprocessing)\n",
    "    * [Strategy](#strategy)\n",
    "    * [Feature engineering](#feature_engineering)\n",
    "    * [Categorical features](#categorical)\n",
    "    * [Continuous features](#continuous)\n",
    "    * [Outliers detection](#outliers)\n",
    "    * [Missing values](#missing)\n",
    "\n",
    "* [Unsupervised learning](#unsupervised)\n",
    "    * [Clustering]\n",
    "    \n",
    "* [Feature selection](#feature_selection)\n",
    "    * [Multicollinearity Analysis](#multicollinearity)\n",
    "    * [Individual tests]()"
   ]
  },
  {
   "cell_type": "markdown",
   "metadata": {},
   "source": [
    "# Import data and libraries <a class=\"anchor\" id=\"import\"></a>"
   ]
  },
  {
   "cell_type": "code",
   "execution_count": 1,
   "metadata": {},
   "outputs": [],
   "source": [
    "import pandas as pd\n",
    "from pandas import read_csv\n",
    "import numpy as np\n",
    "import re\n",
    "\n",
    "import seaborn as sns\n",
    "import matplotlib.pyplot as plt\n",
    "%matplotlib inline\n",
    "\n",
    "from sklearn.preprocessing import StandardScaler\n",
    "\n",
    "# Team toolbox\n",
    "from feature_engineering.categorical import one_hot_embarked, one_hot_name, handle_cabin, process_ticket\n",
    "from feature_engineering.missing_values import missing_values_table\n",
    "from feature_engineering.continuous import continuous_features, basic_preprocessing, outliers_handling"
   ]
  },
  {
   "cell_type": "code",
   "execution_count": 2,
   "metadata": {},
   "outputs": [
    {
     "data": {
      "text/html": [
       "<div>\n",
       "<style scoped>\n",
       "    .dataframe tbody tr th:only-of-type {\n",
       "        vertical-align: middle;\n",
       "    }\n",
       "\n",
       "    .dataframe tbody tr th {\n",
       "        vertical-align: top;\n",
       "    }\n",
       "\n",
       "    .dataframe thead th {\n",
       "        text-align: right;\n",
       "    }\n",
       "</style>\n",
       "<table border=\"1\" class=\"dataframe\">\n",
       "  <thead>\n",
       "    <tr style=\"text-align: right;\">\n",
       "      <th></th>\n",
       "      <th>PassengerId</th>\n",
       "      <th>Pclass</th>\n",
       "      <th>Name</th>\n",
       "      <th>Sex</th>\n",
       "      <th>Age</th>\n",
       "      <th>SibSp</th>\n",
       "      <th>Parch</th>\n",
       "      <th>Ticket</th>\n",
       "      <th>Fare</th>\n",
       "      <th>Cabin</th>\n",
       "      <th>Embarked</th>\n",
       "      <th>Survived</th>\n",
       "    </tr>\n",
       "  </thead>\n",
       "  <tbody>\n",
       "    <tr>\n",
       "      <th>0</th>\n",
       "      <td>892</td>\n",
       "      <td>3</td>\n",
       "      <td>Kelly, Mr. James</td>\n",
       "      <td>male</td>\n",
       "      <td>34.5</td>\n",
       "      <td>0</td>\n",
       "      <td>0</td>\n",
       "      <td>330911</td>\n",
       "      <td>7.8292</td>\n",
       "      <td>NaN</td>\n",
       "      <td>Q</td>\n",
       "      <td>-1.0</td>\n",
       "    </tr>\n",
       "    <tr>\n",
       "      <th>1</th>\n",
       "      <td>893</td>\n",
       "      <td>3</td>\n",
       "      <td>Wilkes, Mrs. James (Ellen Needs)</td>\n",
       "      <td>female</td>\n",
       "      <td>47.0</td>\n",
       "      <td>1</td>\n",
       "      <td>0</td>\n",
       "      <td>363272</td>\n",
       "      <td>7.0000</td>\n",
       "      <td>NaN</td>\n",
       "      <td>S</td>\n",
       "      <td>-1.0</td>\n",
       "    </tr>\n",
       "    <tr>\n",
       "      <th>2</th>\n",
       "      <td>894</td>\n",
       "      <td>2</td>\n",
       "      <td>Myles, Mr. Thomas Francis</td>\n",
       "      <td>male</td>\n",
       "      <td>62.0</td>\n",
       "      <td>0</td>\n",
       "      <td>0</td>\n",
       "      <td>240276</td>\n",
       "      <td>9.6875</td>\n",
       "      <td>NaN</td>\n",
       "      <td>Q</td>\n",
       "      <td>-1.0</td>\n",
       "    </tr>\n",
       "    <tr>\n",
       "      <th>3</th>\n",
       "      <td>895</td>\n",
       "      <td>3</td>\n",
       "      <td>Wirz, Mr. Albert</td>\n",
       "      <td>male</td>\n",
       "      <td>27.0</td>\n",
       "      <td>0</td>\n",
       "      <td>0</td>\n",
       "      <td>315154</td>\n",
       "      <td>8.6625</td>\n",
       "      <td>NaN</td>\n",
       "      <td>S</td>\n",
       "      <td>-1.0</td>\n",
       "    </tr>\n",
       "    <tr>\n",
       "      <th>4</th>\n",
       "      <td>896</td>\n",
       "      <td>3</td>\n",
       "      <td>Hirvonen, Mrs. Alexander (Helga E Lindqvist)</td>\n",
       "      <td>female</td>\n",
       "      <td>22.0</td>\n",
       "      <td>1</td>\n",
       "      <td>1</td>\n",
       "      <td>3101298</td>\n",
       "      <td>12.2875</td>\n",
       "      <td>NaN</td>\n",
       "      <td>S</td>\n",
       "      <td>-1.0</td>\n",
       "    </tr>\n",
       "  </tbody>\n",
       "</table>\n",
       "</div>"
      ],
      "text/plain": [
       "   PassengerId  Pclass                                          Name     Sex  \\\n",
       "0          892       3                              Kelly, Mr. James    male   \n",
       "1          893       3              Wilkes, Mrs. James (Ellen Needs)  female   \n",
       "2          894       2                     Myles, Mr. Thomas Francis    male   \n",
       "3          895       3                              Wirz, Mr. Albert    male   \n",
       "4          896       3  Hirvonen, Mrs. Alexander (Helga E Lindqvist)  female   \n",
       "\n",
       "    Age  SibSp  Parch   Ticket     Fare Cabin Embarked  Survived  \n",
       "0  34.5      0      0   330911   7.8292   NaN        Q      -1.0  \n",
       "1  47.0      1      0   363272   7.0000   NaN        S      -1.0  \n",
       "2  62.0      0      0   240276   9.6875   NaN        Q      -1.0  \n",
       "3  27.0      0      0   315154   8.6625   NaN        S      -1.0  \n",
       "4  22.0      1      1  3101298  12.2875   NaN        S      -1.0  "
      ]
     },
     "execution_count": 2,
     "metadata": {},
     "output_type": "execute_result"
    }
   ],
   "source": [
    "# Read data\n",
    "train = pd.read_csv('train.csv')\n",
    "test = pd.read_csv('test.csv')\n",
    "\n",
    "# Remove duplicate index\n",
    "test['Survived'] = -1*np.ones(test.shape[0])\n",
    "test.head()"
   ]
  },
  {
   "cell_type": "markdown",
   "metadata": {},
   "source": [
    "# First Overview of Missing Values"
   ]
  },
  {
   "cell_type": "code",
   "execution_count": 3,
   "metadata": {
    "scrolled": true
   },
   "outputs": [
    {
     "data": {
      "text/plain": [
       "<matplotlib.axes._subplots.AxesSubplot at 0x10a4a8290>"
      ]
     },
     "execution_count": 3,
     "metadata": {},
     "output_type": "execute_result"
    },
    {
     "data": {
      "image/png": "[encoded data removed]",
      "text/plain": [
       "<Figure size 432x288 with 1 Axes>"
      ]
     },
     "metadata": {
      "needs_background": "light"
     },
     "output_type": "display_data"
    }
   ],
   "source": [
    "sns.heatmap(train.isnull(),yticklabels=False,cbar=False,cmap='viridis')"
   ]
  },
  {
   "cell_type": "markdown",
   "metadata": {},
   "source": [
    "# Preprocessing\n",
    "\n",
    "## Strategy\n",
    "\n",
    "- <b>Missing values:</b> There are several variables (Age, Cabin) for which there are missing values. If not taken care of, this will have a detrimental effect on building predictive models. Some kind of models indeed need no missing values. However, we will not fill them right away, but instead wait for the preprocessing of other variables. The reason we proceed this way is some imputers work by looking at other features to complete the missing values (the kNN imputer is an example of such imputers). \n",
    "\n",
    "- <b>Categorical variables:</b> Some predictors are not suited for direct exploitation. For instance, variables like Name need feature engineering/extracting. We will therefore proceed with common sense and data-driven choices to create relevant features from these raw data. The features concerned are: Name, Cabin and Ticket.\n",
    "\n",
    "- <b>Continuous variables:</b> Variables like Age need some transformation before being used by a Machine Learning model. Specifically, the data need to be scaled (standard/min-max scaler). Furthermore, we will be looking for relevant data transformation (such as log transform) to further make the information digestable by ML models."
   ]
  },
  {
   "cell_type": "code",
   "execution_count": 4,
   "metadata": {},
   "outputs": [
    {
     "name": "stdout",
     "output_type": "stream",
     "text": [
      "Shape of the training set (891, 11)\n"
     ]
    }
   ],
   "source": [
    "# Train test split\n",
    "X_train, y_train = train.drop(['Survived'], axis = 1), train['Survived']\n",
    "print('Shape of the training set ' + str(X_train.shape))"
   ]
  },
  {
   "cell_type": "markdown",
   "metadata": {},
   "source": [
    "## Encoding categorical features\n",
    "\n",
    "Several features cannot be exploited right away. It is the case for the name, the cabin and the ticket of each passenger. We will therefore have to retrieve informations and perform sound feature engineering of the data.\n",
    "\n",
    "### Name\n",
    "\n",
    "<b>Titles:</b> After a careful analysis of the Name features, we observe the occurence of titles in lots of samples (Mr, Mrs, Lady, Dr, ...). These socio-economic markers probably have an importance. For instance, Lady and Countess might have a higher likelihood of getting on a lifeboat because of their status. The exhaustive list of found titles is: Jonkheer, Ms, Mlle, Mme, Capt, Don, Major, Col, Sir, Dona, Lady, the Countess. We will therefore parse the names and retrieve those keywords."
   ]
  },
  {
   "cell_type": "markdown",
   "metadata": {},
   "source": [
    "As we wee, most of the titles beside Mr, Mrs, Miss and Master have very low occurences. As the most common way to deal with such categorical features is to create dummy variables, the resulting imbalanced features will undermine Machine Learning models abilities to learn. We will therefore group some under broader categories:\n",
    "\n",
    "- Ms, Mlle -> Miss (Obvious)\n",
    "- Mme -> Mrs (Obvious)\n",
    "- Jonkheer, Sir, Dona, Lady, the Countess -> Nobles (Jonkheer denotes the lowest rank within the nobility in the Low countries)\n",
    "- Capt, Don, Major, Col -> Military (Military individuals are likely to help others when the ship is sinking, i.e. sense of duty)"
   ]
  },
  {
   "cell_type": "markdown",
   "metadata": {},
   "source": [
    "After an attentive analysis of the barplot above, we see that following:\n",
    "\n",
    "- Almost all nobles survived.\n",
    "- Military and Reverents did not survive for the majority and the same goes for the doctors. \n",
    "It might be possible \n",
    "\n",
    "<b>Remark:</b> These features are highly correlated with the Sex of the individual. 'Military', 'Reverents' and 'Doctors' are all males (except for one female doctor)."
   ]
  },
  {
   "cell_type": "markdown",
   "metadata": {},
   "source": [
    "Rev and Nobles seem to be strong indicators of survivorship. We will consequently retain them in our dataset. However, despite the above average survival likelihood, military titles and Doctors do not seem discriminative enough. We therefore group the two of them under 'Officer' (by lack of a better name)."
   ]
  },
  {
   "cell_type": "markdown",
   "metadata": {},
   "source": [
    "A simple look at the above barplot tells us that there is an inverse proportionality between the number of names and the survival likelihood.\n",
    "An inspection of the (rare) samples and the plot, we will group the number of names into the following category:\n",
    "- Low: Up to 5\n",
    "- Middle: 6 to 8\n",
    "- High: 9 or more"
   ]
  },
  {
   "cell_type": "code",
   "execution_count": 5,
   "metadata": {},
   "outputs": [
    {
     "data": {
      "image/png": "[encoded data removed]",
      "text/plain": [
       "<Figure size 1296x576 with 2 Axes>"
      ]
     },
     "metadata": {
      "needs_background": "light"
     },
     "output_type": "display_data"
    }
   ],
   "source": [
    "train, test = one_hot_name(train, test, plot = True)"
   ]
  },
  {
   "cell_type": "code",
   "execution_count": 6,
   "metadata": {},
   "outputs": [
    {
     "data": {
      "text/plain": [
       "array(['Age', 'Cabin', 'Embarked', 'Fare', 'Parch', 'PassengerId',\n",
       "       'Pclass', 'Sex', 'SibSp', 'Survived', 'Ticket', 'Title_Master',\n",
       "       'Title_Miss', 'Title_Mr', 'Title_Mrs', 'Title_Rare'], dtype=object)"
      ]
     },
     "execution_count": 6,
     "metadata": {},
     "output_type": "execute_result"
    }
   ],
   "source": [
    "train.columns.values"
   ]
  },
  {
   "cell_type": "markdown",
   "metadata": {},
   "source": [
    "# Embarked\n",
    "\n",
    "The embarked feature defines the port of embarkation. There are two missing values, which we will replace by the most common port of Embarkation 'S'."
   ]
  },
  {
   "cell_type": "code",
   "execution_count": 7,
   "metadata": {},
   "outputs": [
    {
     "data": {
      "image/png": "[encoded data removed]",
      "text/plain": [
       "<Figure size 1296x576 with 1 Axes>"
      ]
     },
     "metadata": {
      "needs_background": "light"
     },
     "output_type": "display_data"
    }
   ],
   "source": [
    "train, test = one_hot_embarked(train, test, plot = True)"
   ]
  },
  {
   "cell_type": "markdown",
   "metadata": {},
   "source": [
    "## Cabin\n",
    "\n",
    "The cabin number is a tricky predictor as it has many missing values and is not directly usable. Furthermore it needs feature engineering. We should note that there are some samples with more than one cabin reservation. Intuitively, the residents of the cabin are likely to know each other, or at least the person who bought the ticket. It is also likely that people who know each other tend to stick together when in distess. We will take this into account in the following analysis."
   ]
  },
  {
   "cell_type": "markdown",
   "metadata": {},
   "source": [
    "We will create the following features:\n",
    "\n",
    "<b>Deck:</b> First letter of the string, it corresponds to the floor of the titanic, as per the plan below.\n",
    "\n",
    "<img src=\"https://upload.wikimedia.org/wikipedia/commons/thumb/8/84/Titanic_cutaway_diagram.png/687px-Titanic_cutaway_diagram.png\" width=\"240\" height=\"240\" align=\"center\"/>"
   ]
  },
  {
   "cell_type": "markdown",
   "metadata": {},
   "source": [
    "We observe a few things:\n",
    "\n",
    "- Some categories don't have enough informations and should therefore be merged together\n",
    "- There are different likelihood of survival depending on the category\n",
    "\n",
    "We will choose the groups based on the likelihood of survival\n",
    "\n",
    "- T, GF, U - > Low (0 to 30% likelihood)\n",
    "- A, C, G -> Medium (between 30% and 70% likelihood)\n",
    "- EF, F, D, E -> High (superior to 70 %)"
   ]
  },
  {
   "cell_type": "markdown",
   "metadata": {},
   "source": [
    "<b>Cabin number:</b> According to [this plan](https://www.encyclopedia-titanica.org/titanic-deckplans/c-deck.html) of the deck, the number is distributed with regards to the boat length (low numbers at the front of the boat and high ones at the end). We will consider the room number as a continuous variables. It will make our task easier for both the preprocessing and the the imputation."
   ]
  },
  {
   "cell_type": "markdown",
   "metadata": {},
   "source": [
    "<b>Number of cabins:</b>  A careful inspection of the number of cabins vs survival likelihood shows that people with more than two cabin have a higher survival rate. We add a Boolean variable that indicates wether the reservation has two cabins or more."
   ]
  },
  {
   "cell_type": "code",
   "execution_count": 8,
   "metadata": {},
   "outputs": [
    {
     "name": "stdout",
     "output_type": "stream",
     "text": [
      "Age             float64\n",
      "Fare            float64\n",
      "Parch             int64\n",
      "PassengerId       int64\n",
      "Pclass            int64\n",
      "Sex              object\n",
      "SibSp             int64\n",
      "Survived        float64\n",
      "Ticket           object\n",
      "Title_Master      uint8\n",
      "Title_Miss        uint8\n",
      "Title_Mr          uint8\n",
      "Title_Mrs         uint8\n",
      "Title_Rare        uint8\n",
      "Embarked_C        uint8\n",
      "Embarked_Q        uint8\n",
      "Embarked_S        uint8\n",
      "Deck_High         uint8\n",
      "Deck_Low          uint8\n",
      "Deck_Medium       uint8\n",
      "NumberCabins      int64\n",
      "Room            float64\n",
      "RoomSide        float64\n",
      "dtype: object\n"
     ]
    },
    {
     "data": {
      "image/png": "[encoded data removed]",
      "text/plain": [
       "<Figure size 1296x576 with 2 Axes>"
      ]
     },
     "metadata": {
      "needs_background": "light"
     },
     "output_type": "display_data"
    }
   ],
   "source": [
    "train, test = handle_cabin(train, test, plot = True)\n",
    "print(train.dtypes)"
   ]
  },
  {
   "cell_type": "markdown",
   "metadata": {},
   "source": [
    "## Ticket\n",
    "\n",
    "We omit this feature for now."
   ]
  },
  {
   "cell_type": "code",
   "execution_count": null,
   "metadata": {},
   "outputs": [],
   "source": [
    "#train = process_ticket(train)"
   ]
  },
  {
   "cell_type": "markdown",
   "metadata": {},
   "source": [
    "## Basic feature engineering\n",
    "\n",
    "The two ordinal features Parch and SibSp both correspond to the number of family individuals. We will therefore merge the two by summing them into a new feature: 'Family'."
   ]
  },
  {
   "cell_type": "markdown",
   "metadata": {},
   "source": [
    "# Continuous features\n",
    "\n",
    "There are several continuous variables that need special attention. These features are the Age, the Fare, and the Room number. In particular, we will explore transformation and scaling."
   ]
  },
  {
   "cell_type": "code",
   "execution_count": 9,
   "metadata": {},
   "outputs": [],
   "source": [
    "train, test = basic_preprocessing(train, test)"
   ]
  },
  {
   "cell_type": "code",
   "execution_count": 10,
   "metadata": {},
   "outputs": [
    {
     "data": {
      "text/html": [
       "<div>\n",
       "<style scoped>\n",
       "    .dataframe tbody tr th:only-of-type {\n",
       "        vertical-align: middle;\n",
       "    }\n",
       "\n",
       "    .dataframe tbody tr th {\n",
       "        vertical-align: top;\n",
       "    }\n",
       "\n",
       "    .dataframe thead th {\n",
       "        text-align: right;\n",
       "    }\n",
       "</style>\n",
       "<table border=\"1\" class=\"dataframe\">\n",
       "  <thead>\n",
       "    <tr style=\"text-align: right;\">\n",
       "      <th></th>\n",
       "      <th>Age</th>\n",
       "      <th>Fare</th>\n",
       "      <th>PassengerId</th>\n",
       "      <th>Pclass</th>\n",
       "      <th>Sex</th>\n",
       "      <th>Survived</th>\n",
       "      <th>Ticket</th>\n",
       "      <th>Title_Master</th>\n",
       "      <th>Title_Miss</th>\n",
       "      <th>Title_Mr</th>\n",
       "      <th>...</th>\n",
       "      <th>Embarked_Q</th>\n",
       "      <th>Embarked_S</th>\n",
       "      <th>Deck_High</th>\n",
       "      <th>Deck_Low</th>\n",
       "      <th>Deck_Medium</th>\n",
       "      <th>NumberCabins</th>\n",
       "      <th>Room</th>\n",
       "      <th>RoomSide</th>\n",
       "      <th>Family</th>\n",
       "      <th>IsAlone</th>\n",
       "    </tr>\n",
       "  </thead>\n",
       "  <tbody>\n",
       "    <tr>\n",
       "      <th>0</th>\n",
       "      <td>22.0</td>\n",
       "      <td>7.2500</td>\n",
       "      <td>1</td>\n",
       "      <td>3</td>\n",
       "      <td>1</td>\n",
       "      <td>0.0</td>\n",
       "      <td>A/5 21171</td>\n",
       "      <td>0</td>\n",
       "      <td>0</td>\n",
       "      <td>1</td>\n",
       "      <td>...</td>\n",
       "      <td>0</td>\n",
       "      <td>1</td>\n",
       "      <td>0</td>\n",
       "      <td>1</td>\n",
       "      <td>0</td>\n",
       "      <td>0</td>\n",
       "      <td>NaN</td>\n",
       "      <td>NaN</td>\n",
       "      <td>2</td>\n",
       "      <td>0</td>\n",
       "    </tr>\n",
       "    <tr>\n",
       "      <th>1</th>\n",
       "      <td>38.0</td>\n",
       "      <td>71.2833</td>\n",
       "      <td>2</td>\n",
       "      <td>1</td>\n",
       "      <td>0</td>\n",
       "      <td>1.0</td>\n",
       "      <td>PC 17599</td>\n",
       "      <td>0</td>\n",
       "      <td>0</td>\n",
       "      <td>0</td>\n",
       "      <td>...</td>\n",
       "      <td>0</td>\n",
       "      <td>0</td>\n",
       "      <td>0</td>\n",
       "      <td>0</td>\n",
       "      <td>1</td>\n",
       "      <td>0</td>\n",
       "      <td>85.0</td>\n",
       "      <td>1.0</td>\n",
       "      <td>2</td>\n",
       "      <td>0</td>\n",
       "    </tr>\n",
       "    <tr>\n",
       "      <th>2</th>\n",
       "      <td>26.0</td>\n",
       "      <td>7.9250</td>\n",
       "      <td>3</td>\n",
       "      <td>3</td>\n",
       "      <td>0</td>\n",
       "      <td>1.0</td>\n",
       "      <td>STON/O2. 3101282</td>\n",
       "      <td>0</td>\n",
       "      <td>1</td>\n",
       "      <td>0</td>\n",
       "      <td>...</td>\n",
       "      <td>0</td>\n",
       "      <td>1</td>\n",
       "      <td>0</td>\n",
       "      <td>1</td>\n",
       "      <td>0</td>\n",
       "      <td>0</td>\n",
       "      <td>NaN</td>\n",
       "      <td>NaN</td>\n",
       "      <td>1</td>\n",
       "      <td>1</td>\n",
       "    </tr>\n",
       "    <tr>\n",
       "      <th>3</th>\n",
       "      <td>35.0</td>\n",
       "      <td>53.1000</td>\n",
       "      <td>4</td>\n",
       "      <td>1</td>\n",
       "      <td>0</td>\n",
       "      <td>1.0</td>\n",
       "      <td>113803</td>\n",
       "      <td>0</td>\n",
       "      <td>0</td>\n",
       "      <td>0</td>\n",
       "      <td>...</td>\n",
       "      <td>0</td>\n",
       "      <td>1</td>\n",
       "      <td>0</td>\n",
       "      <td>0</td>\n",
       "      <td>1</td>\n",
       "      <td>0</td>\n",
       "      <td>123.0</td>\n",
       "      <td>1.0</td>\n",
       "      <td>2</td>\n",
       "      <td>0</td>\n",
       "    </tr>\n",
       "    <tr>\n",
       "      <th>4</th>\n",
       "      <td>35.0</td>\n",
       "      <td>8.0500</td>\n",
       "      <td>5</td>\n",
       "      <td>3</td>\n",
       "      <td>1</td>\n",
       "      <td>0.0</td>\n",
       "      <td>373450</td>\n",
       "      <td>0</td>\n",
       "      <td>0</td>\n",
       "      <td>1</td>\n",
       "      <td>...</td>\n",
       "      <td>0</td>\n",
       "      <td>1</td>\n",
       "      <td>0</td>\n",
       "      <td>1</td>\n",
       "      <td>0</td>\n",
       "      <td>0</td>\n",
       "      <td>NaN</td>\n",
       "      <td>NaN</td>\n",
       "      <td>1</td>\n",
       "      <td>1</td>\n",
       "    </tr>\n",
       "  </tbody>\n",
       "</table>\n",
       "<p>5 rows × 23 columns</p>\n",
       "</div>"
      ],
      "text/plain": [
       "    Age     Fare  PassengerId  Pclass  Sex  Survived            Ticket  \\\n",
       "0  22.0   7.2500            1       3    1       0.0         A/5 21171   \n",
       "1  38.0  71.2833            2       1    0       1.0          PC 17599   \n",
       "2  26.0   7.9250            3       3    0       1.0  STON/O2. 3101282   \n",
       "3  35.0  53.1000            4       1    0       1.0            113803   \n",
       "4  35.0   8.0500            5       3    1       0.0            373450   \n",
       "\n",
       "   Title_Master  Title_Miss  Title_Mr   ...     Embarked_Q  Embarked_S  \\\n",
       "0             0           0         1   ...              0           1   \n",
       "1             0           0         0   ...              0           0   \n",
       "2             0           1         0   ...              0           1   \n",
       "3             0           0         0   ...              0           1   \n",
       "4             0           0         1   ...              0           1   \n",
       "\n",
       "   Deck_High  Deck_Low  Deck_Medium  NumberCabins   Room  RoomSide  Family  \\\n",
       "0          0         1            0             0    NaN       NaN       2   \n",
       "1          0         0            1             0   85.0       1.0       2   \n",
       "2          0         1            0             0    NaN       NaN       1   \n",
       "3          0         0            1             0  123.0       1.0       2   \n",
       "4          0         1            0             0    NaN       NaN       1   \n",
       "\n",
       "   IsAlone  \n",
       "0        0  \n",
       "1        0  \n",
       "2        1  \n",
       "3        0  \n",
       "4        1  \n",
       "\n",
       "[5 rows x 23 columns]"
      ]
     },
     "execution_count": 10,
     "metadata": {},
     "output_type": "execute_result"
    }
   ],
   "source": [
    "train.head()"
   ]
  },
  {
   "cell_type": "code",
   "execution_count": 11,
   "metadata": {},
   "outputs": [
    {
     "data": {
      "text/plain": [
       "<matplotlib.axes._subplots.AxesSubplot at 0x10aeab1d0>"
      ]
     },
     "execution_count": 11,
     "metadata": {},
     "output_type": "execute_result"
    },
    {
     "data": {
      "image/png": "[encoded data removed]",
      "text/plain": [
       "<Figure size 432x288 with 1 Axes>"
      ]
     },
     "metadata": {
      "needs_background": "light"
     },
     "output_type": "display_data"
    }
   ],
   "source": [
    "sns.heatmap(train.isnull(),yticklabels=False,cbar=False,cmap='viridis')"
   ]
  },
  {
   "cell_type": "code",
   "execution_count": null,
   "metadata": {},
   "outputs": [],
   "source": [
    "train, test = continuous_features(train, test)"
   ]
  },
  {
   "cell_type": "markdown",
   "metadata": {},
   "source": [
    "## Age and Fare\n",
    "Beside scaling, no apparent transformation needs to be made (age is approximately Gaussian distributed). \n",
    "We choose to log-transform the 'Fare' feature because it is highly right skewed."
   ]
  },
  {
   "cell_type": "markdown",
   "metadata": {},
   "source": [
    "## Missing values\n",
    "\n"
   ]
  },
  {
   "cell_type": "code",
   "execution_count": null,
   "metadata": {},
   "outputs": [],
   "source": []
  },
  {
   "cell_type": "code",
   "execution_count": null,
   "metadata": {},
   "outputs": [],
   "source": [
    "# Predictor / response split\n",
    "X_train, y_train = train.drop(['Survived', 'PassengerId'], axis = 1), train['Survived']\n",
    "X_test, y_test = test.drop(['Survived', 'PassengerId'], axis = 1), test['Survived']"
   ]
  },
  {
   "cell_type": "code",
   "execution_count": null,
   "metadata": {},
   "outputs": [],
   "source": [
    "X_train.columns.values"
   ]
  },
  {
   "cell_type": "code",
   "execution_count": null,
   "metadata": {},
   "outputs": [],
   "source": [
    "#from fancyimpute import KNN, NuclearNormMinimization, SoftImpute, IterativeImputer, BiScaler\n",
    "\n",
    "# Iterative Imputer\n",
    "#imputer = IterativeImputer()\n",
    "#X_train_cleaned = imputer.fit_transform(X_train)\n",
    "#X_train_cleaned = pd.DataFrame(data = X_train_cleaned, columns = X_train.columns)\n",
    "\n",
    "#X_test_cleaned = imputer.transform(X_test)\n",
    "#X_test_cleaned = pd.DataFrame(data = X_test_cleaned, columns = X_test.columns)"
   ]
  },
  {
   "cell_type": "code",
   "execution_count": null,
   "metadata": {},
   "outputs": [],
   "source": [
    "X_test_cleaned.columns"
   ]
  },
  {
   "cell_type": "code",
   "execution_count": null,
   "metadata": {},
   "outputs": [],
   "source": [
    "X_train.dtypes"
   ]
  },
  {
   "cell_type": "markdown",
   "metadata": {},
   "source": [
    "\n",
    "\n"
   ]
  },
  {
   "cell_type": "markdown",
   "metadata": {},
   "source": [
    "## Outliers detection"
   ]
  },
  {
   "cell_type": "code",
   "execution_count": null,
   "metadata": {},
   "outputs": [],
   "source": [
    "X_train_cleaned, X_test_cleaned = outliers_handling(X_train_cleaned, X_test_cleaned)"
   ]
  },
  {
   "cell_type": "markdown",
   "metadata": {},
   "source": [
    "## Outlier Analysis"
   ]
  },
  {
   "cell_type": "code",
   "execution_count": null,
   "metadata": {},
   "outputs": [],
   "source": [
    "idx_isof = X_train_cleaned.loc[X_train_cleaned['isof_score'] < -0.56].index\n",
    "idx_lof = X_train_cleaned.loc[X_train_cleaned['lof_score'] < -25].index"
   ]
  },
  {
   "cell_type": "code",
   "execution_count": null,
   "metadata": {},
   "outputs": [],
   "source": [
    "idx_lof"
   ]
  },
  {
   "cell_type": "code",
   "execution_count": null,
   "metadata": {},
   "outputs": [],
   "source": [
    "X_train_cleaned = X_train_cleaned.drop(idx_isof.intersection(idx_lof), axis = 0)\n",
    "y_train = y_train.drop(idx_isof.intersection(idx_lof), axis = 0)"
   ]
  },
  {
   "cell_type": "markdown",
   "metadata": {},
   "source": [
    "# Feature selection"
   ]
  },
  {
   "cell_type": "code",
   "execution_count": null,
   "metadata": {},
   "outputs": [],
   "source": [
    "#fisher = fisher_score(train.drop(['Survived'], axis = 1).select_dtypes(include = 'uint8'), train['Survived'])"
   ]
  },
  {
   "cell_type": "code",
   "execution_count": null,
   "metadata": {},
   "outputs": [],
   "source": [
    "#zip(train.drop(['Survived'], axis = 1).select_dtypes(include = 'uint8').columns.values, fisher)"
   ]
  },
  {
   "cell_type": "markdown",
   "metadata": {},
   "source": [
    "# Multicollinearity Analysis\n",
    "\n",
    "Linear based models suffer from multicollinearity. "
   ]
  },
  {
   "cell_type": "code",
   "execution_count": 12,
   "metadata": {},
   "outputs": [
    {
     "data": {
      "text/plain": [
       "<matplotlib.axes._subplots.AxesSubplot at 0x10a53e910>"
      ]
     },
     "execution_count": 12,
     "metadata": {},
     "output_type": "execute_result"
    },
    {
     "data": {
      "image/png": "[encoded data removed]",
      "text/plain": [
       "<Figure size 792x648 with 2 Axes>"
      ]
     },
     "metadata": {
      "needs_background": "light"
     },
     "output_type": "display_data"
    }
   ],
   "source": [
    "# Compute the correlation matrix\n",
    "corr = train.corr()\n",
    "\n",
    "# Generate a mask for the upper triangle\n",
    "mask = np.zeros_like(corr, dtype=np.bool)\n",
    "mask[np.triu_indices_from(mask)] = True\n",
    "\n",
    "# Set up the matplotlib figure\n",
    "f, ax = plt.subplots(figsize=(11, 9))\n",
    "\n",
    "# Generate a custom diverging colormap\n",
    "cmap = sns.diverging_palette(220, 10, as_cmap=True)\n",
    "\n",
    "# Draw the heatmap with the mask and correct aspect ratio\n",
    "sns.heatmap(corr, mask=mask, cmap=cmap, vmax=.3, center=0,\\\n",
    "            square=True, linewidths=.5, cbar_kws={\"shrink\": .5})"
   ]
  },
  {
   "cell_type": "markdown",
   "metadata": {},
   "source": [
    "# Comments\n",
    "\n",
    "Quick comments can be made about the above multicollinearity matrix. For instance, NumberNames_Low and NumberNames_Medium are high\n",
    "\n",
    "- High collinearity:\n",
    "    * NumberNames_Low and NumberNames_Medium (we fuse the two together)\n",
    "    * Embarked_C cand Enbarked_S are as well hihly linked.\n",
    "    * \n",
    "- No collinearity\n",
    "    * Title_Rev has zero collinearity with \n"
   ]
  },
  {
   "cell_type": "code",
   "execution_count": null,
   "metadata": {},
   "outputs": [],
   "source": [
    "X_train_cleaned['Family']"
   ]
  },
  {
   "cell_type": "markdown",
   "metadata": {},
   "source": [
    "# Feature selection\n",
    "\n"
   ]
  },
  {
   "cell_type": "code",
   "execution_count": null,
   "metadata": {},
   "outputs": [],
   "source": [
    "from sklearn.datasets import make_friedman1\n",
    "from sklearn.feature_selection import RFE\n",
    "from sklearn.svm import SVR\n",
    "\n",
    "estimator = SVR(kernel=\"linear\")\n",
    "selector = RFE(estimator, 5, step=1)\n",
    "selector = selector.fit(X_train_cleaned, y_train)"
   ]
  },
  {
   "cell_type": "code",
   "execution_count": null,
   "metadata": {},
   "outputs": [],
   "source": [
    "rankings_rfe = dict(zip(X_train_cleaned.columns.values, selector.ranking_))\n",
    "#predictors_rfe = list({k for (k,v) in rankings_rfe.items() if v<20})"
   ]
  },
  {
   "cell_type": "code",
   "execution_count": null,
   "metadata": {},
   "outputs": [],
   "source": [
    "from sklearn.ensemble import ExtraTreesClassifier\n",
    "from sklearn.datasets import load_iris\n",
    "from sklearn.feature_selection import SelectFromModel\n",
    "\n",
    "clf = ExtraTreesClassifier(n_estimators=50)\n",
    "clf = clf.fit(X_train_cleaned, y_train)"
   ]
  },
  {
   "cell_type": "code",
   "execution_count": null,
   "metadata": {},
   "outputs": [],
   "source": [
    "rankings_clf = dict(zip(X_train_cleaned.columns.values, clf.feature_importances_))\n",
    "def select_k_lowest(columns, clf, k = 10):\n",
    "    idx = np.argpartition(clf.feature_importances_, -20)\n",
    "    return(columns[idx[:k]])\n",
    "\n",
    "#predictors_clf = list({k for (k,v) in rankings_clf.items() if v > 0.01})\n",
    "predictors_clf = select_k_lowest(X_train_cleaned.columns.values, clf)\n",
    "predictors_clf = select_k_lowest(X_train_cleaned.columns.values, clf)"
   ]
  },
  {
   "cell_type": "code",
   "execution_count": null,
   "metadata": {},
   "outputs": [],
   "source": [
    "predictors_clf"
   ]
  },
  {
   "cell_type": "code",
   "execution_count": null,
   "metadata": {},
   "outputs": [],
   "source": [
    "X_train_cleaned"
   ]
  },
  {
   "cell_type": "code",
   "execution_count": null,
   "metadata": {},
   "outputs": [],
   "source": [
    "X_train_cleaned.columns.values"
   ]
  },
  {
   "cell_type": "markdown",
   "metadata": {},
   "source": [
    "# Models"
   ]
  },
  {
   "cell_type": "code",
   "execution_count": null,
   "metadata": {},
   "outputs": [],
   "source": [
    "from sklearn.linear_model import LogisticRegression\n",
    "from sklearn.svm import SVC, LinearSVC\n",
    "from sklearn.neighbors import KNeighborsClassifier\n",
    "from sklearn.tree import DecisionTreeClassifier\n",
    "from sklearn.ensemble import RandomForestClassifier\n",
    "from sklearn.naive_bayes import GaussianNB\n",
    "from sklearn.neural_network import MLPClassifier\n",
    "from sklearn.model_selection import cross_val_score"
   ]
  },
  {
   "cell_type": "code",
   "execution_count": null,
   "metadata": {},
   "outputs": [],
   "source": [
    "# Iterate over models\n",
    "models = []\n",
    "\n",
    "models.append((\"LogisticRegression\", LogisticRegression()))\n",
    "models.append((\"SVC\", SVC()))\n",
    "models.append((\"LinearSVC\", LinearSVC()))\n",
    "models.append((\"KNeighbors\", KNeighborsClassifier()))\n",
    "models.append((\"DecisionTree\", DecisionTreeClassifier()))\n",
    "models.append((\"RandomForest\", RandomForestClassifier()))\n",
    "rf2 = RandomForestClassifier(n_estimators=100, criterion='gini',\n",
    "                                max_depth=10, random_state=0, max_features=None)\n",
    "models.append((\"RandomForest2\",rf2))\n",
    "models.append((\"MLPClassifier\",MLPClassifier(solver='lbfgs', random_state=0)))\n",
    "\n",
    "results = []\n",
    "names = []\n",
    "for name, model in models:\n",
    "    result = cross_val_score(model, X_train_cleaned, y_train,  cv=3)\n",
    "    model.fit(X_train_cleaned, y_train)\n",
    "    names.append(name)\n",
    "    results.append(result)\n",
    "\n",
    "for i in range(len(names)):\n",
    "    print(names[i],results[i].mean())"
   ]
  },
  {
   "cell_type": "code",
   "execution_count": null,
   "metadata": {},
   "outputs": [],
   "source": [
    "X_train_cleaned['Sex'].head()"
   ]
  },
  {
   "cell_type": "markdown",
   "metadata": {},
   "source": [
    "# Kaggle"
   ]
  },
  {
   "cell_type": "code",
   "execution_count": null,
   "metadata": {},
   "outputs": [],
   "source": [
    "models_chosen = [models[k] for k in range(0, 8) if models[k][0] in ['LogisticRegression', 'SVC', 'RandomForest']]"
   ]
  },
  {
   "cell_type": "code",
   "execution_count": null,
   "metadata": {},
   "outputs": [],
   "source": [
    "submission = [None]*3\n",
    "\n",
    "for i, model in enumerate(models_chosen):\n",
    "    predictions = model[1].predict(X_test_cleaned[predictors_rfe])\n",
    "    #Create a  DataFrame with the passengers ids and our prediction regarding whether they survived or not\n",
    "    submission[i] = pd.DataFrame({'PassengerId':pd.RangeIndex(892, 892 + 418), 'Survived':predictions})\n",
    "\n",
    "    name = '~/Desktop/' + model[0] + '.csv'\n",
    "    submission[i].to_csv(name, index=False)"
   ]
  },
  {
   "cell_type": "code",
   "execution_count": null,
   "metadata": {},
   "outputs": [],
   "source": [
    "pd.read_csv('~/Desktop/LogisticRegression.csv')"
   ]
  },
  {
   "cell_type": "code",
   "execution_count": null,
   "metadata": {},
   "outputs": [],
   "source": [
    "submission.shape"
   ]
  },
  {
   "cell_type": "markdown",
   "metadata": {},
   "source": [
    "# Sources\n",
    "- [Feature Engineering 1 - Python](http://www.ultravioletanalytics.com/blog/kaggle-titanic-competition-part-iv-derived-variables)\n",
    "- [Feature Engineering 2 - R](https://trevorstephens.com/kaggle-titanic-tutorial/r-part-4-feature-engineering/)\n",
    "https://www.kaggle.com/ailuropus/extracting-family-relationships-on-titanic-sibsp"
   ]
  },
  {
   "cell_type": "code",
   "execution_count": null,
   "metadata": {},
   "outputs": [],
   "source": []
  }
 ],
 "metadata": {
  "kernelspec": {
   "display_name": "Python 2",
   "language": "python",
   "name": "python2"
  },
  "language_info": {
   "codemirror_mode": {
    "name": "ipython",
    "version": 2
   },
   "file_extension": ".py",
   "mimetype": "text/x-python",
   "name": "python",
   "nbconvert_exporter": "python",
   "pygments_lexer": "ipython2",
   "version": "2.7.14"
  }
 },
 "nbformat": 4,
 "nbformat_minor": 2
}
